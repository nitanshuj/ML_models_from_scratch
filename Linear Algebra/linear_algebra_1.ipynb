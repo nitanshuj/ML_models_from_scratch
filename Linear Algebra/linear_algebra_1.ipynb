{
 "cells": [
  {
   "cell_type": "code",
   "execution_count": 1,
   "metadata": {},
   "outputs": [],
   "source": [
    "import numpy as np"
   ]
  },
  {
   "cell_type": "markdown",
   "metadata": {},
   "source": [
    "### **`Vectors`**"
   ]
  },
  {
   "cell_type": "code",
   "execution_count": 5,
   "metadata": {},
   "outputs": [
    {
     "name": "stdout",
     "output_type": "stream",
     "text": [
      "[13 23 33]\n"
     ]
    }
   ],
   "source": [
    "# Scalar Operations\n",
    "# -----------------\n",
    "x = np.array([10, 20, 30])\n",
    "scalar = 3\n",
    "print(x + scalar)"
   ]
  },
  {
   "cell_type": "code",
   "execution_count": 4,
   "metadata": {},
   "outputs": [
    {
     "name": "stdout",
     "output_type": "stream",
     "text": [
      "x + y = [110 220 330]\n",
      "x - y = [110 220 330]\n",
      "x / y = [10. 10. 10.]\n",
      "x * y = [1000 4000 9000]\n"
     ]
    }
   ],
   "source": [
    "# Element-Wise Operations\n",
    "# -----------------------\n",
    "x = np.array([100,200,300])\n",
    "y = np.array([10, 20, 30])\n",
    "\n",
    "print(f\"x + y = {x+y}\")\n",
    "print(f\"x - y = {x+y}\")\n",
    "print(f\"x / y = {x/y}\")\n",
    "\n",
    "print(f\"x * y = {x*y}\") # This is also called the Hadamard Product\n"
   ]
  },
  {
   "cell_type": "code",
   "execution_count": 6,
   "metadata": {},
   "outputs": [
    {
     "name": "stdout",
     "output_type": "stream",
     "text": [
      "The dot-product is: 14000\n"
     ]
    }
   ],
   "source": [
    "# Dot Product\n",
    "# -----------\n",
    "x = np.array([100,200,300])\n",
    "y = np.array([10, 20, 30])\n",
    "print(f\"The dot-product is: {np.dot(x,y)}\")"
   ]
  },
  {
   "cell_type": "code",
   "execution_count": 7,
   "metadata": {},
   "outputs": [
    {
     "name": "stdout",
     "output_type": "stream",
     "text": [
      "The hadamard-product is: [ 6 20 42]\n"
     ]
    }
   ],
   "source": [
    "# Hadamard Product\n",
    "# ----------------\n",
    "x = np.array([2,4,6])\n",
    "y = np.array([3,5,7])\n",
    "print(f\"The hadamard-product is: {x*y}\")"
   ]
  },
  {
   "cell_type": "markdown",
   "metadata": {},
   "source": [
    "### **`Matrices`**"
   ]
  },
  {
   "cell_type": "code",
   "execution_count": 10,
   "metadata": {},
   "outputs": [
    {
     "name": "stdout",
     "output_type": "stream",
     "text": [
      "The Matrix is: \n",
      " [[1 2 3]\n",
      " [5 6 7]]\n",
      "Shape of the matrix:  (2, 3)\n",
      "Number of Rows:       2\n",
      "Number of Columns:    3\n"
     ]
    }
   ],
   "source": [
    "matrix = np.array([\n",
    "    [1, 2, 3], \n",
    "    [5, 6, 7]\n",
    "])\n",
    "\n",
    "print(\"The Matrix is: \\n\", matrix)\n",
    "print(\"Shape of the matrix: \", matrix.shape)\n",
    "print(\"Number of Rows:      \", matrix.shape[0])\n",
    "print(\"Number of Columns:   \", matrix.shape[1])"
   ]
  },
  {
   "cell_type": "code",
   "execution_count": 11,
   "metadata": {},
   "outputs": [
    {
     "name": "stdout",
     "output_type": "stream",
     "text": [
      "[[11 12 13]\n",
      " [15 16 17]]\n"
     ]
    }
   ],
   "source": [
    "# Scalar Operations on Matrices\n",
    "# -----------------------------\n",
    "matrix = np.array([\n",
    "    [1, 2, 3], \n",
    "    [5, 6, 7]\n",
    "])\n",
    "\n",
    "print(matrix+10)"
   ]
  },
  {
   "cell_type": "code",
   "execution_count": 16,
   "metadata": {},
   "outputs": [
    {
     "name": "stdout",
     "output_type": "stream",
     "text": [
      "matrix 1 + matrix 2: \n",
      " [[ 5  4  4]\n",
      " [14 11 14]]\n",
      "matrix 1 - matrix 2: \n",
      " [[-3  0  2]\n",
      " [-4  1  0]]\n"
     ]
    }
   ],
   "source": [
    "# Element Wise operations\n",
    "# -----------------------\n",
    "mat1 = np.array([[1,2,3], [5,6,7]])\n",
    "mat2 = np.array([[4,2,1], [9,5,7]])\n",
    "\n",
    "print(f\"matrix 1 + matrix 2: \\n {mat1+mat2}\")\n",
    "print(f\"matrix 1 - matrix 2: \\n {mat1-mat2}\")"
   ]
  },
  {
   "cell_type": "code",
   "execution_count": 17,
   "metadata": {},
   "outputs": [
    {
     "name": "stdout",
     "output_type": "stream",
     "text": [
      "Hadamard Product: \n",
      " [[ 4  4  3]\n",
      " [45 30 49]]\n"
     ]
    }
   ],
   "source": [
    "# Hadamard Product\n",
    "# ----------------\n",
    "mat1 = np.array([[1,2,3], [5,6,7]])\n",
    "mat2 = np.array([[4,2,1], [9,5,7]])\n",
    "print(\"Hadamard Product: \\n\", mat1*mat2)"
   ]
  },
  {
   "cell_type": "code",
   "execution_count": 18,
   "metadata": {},
   "outputs": [
    {
     "name": "stdout",
     "output_type": "stream",
     "text": [
      "Original Matrix is :\n",
      "[[1 2 3]\n",
      " [5 6 7]]\n",
      "Transposed Matrix is :\n",
      "[[1 5]\n",
      " [2 6]\n",
      " [3 7]]\n"
     ]
    }
   ],
   "source": [
    "# Transpose of a Matrix\n",
    "# ---------------------\n",
    "matrix = np.array([\n",
    "    [1, 2, 3], \n",
    "    [5, 6, 7]\n",
    "])\n",
    "\n",
    "print(\"Original Matrix is :\")\n",
    "print(matrix)\n",
    "print(\"Transposed Matrix is :\")\n",
    "print(matrix.T)"
   ]
  },
  {
   "cell_type": "code",
   "execution_count": null,
   "metadata": {},
   "outputs": [],
   "source": []
  }
 ],
 "metadata": {
  "kernelspec": {
   "display_name": "gpu",
   "language": "python",
   "name": "python3"
  },
  "language_info": {
   "codemirror_mode": {
    "name": "ipython",
    "version": 3
   },
   "file_extension": ".py",
   "mimetype": "text/x-python",
   "name": "python",
   "nbconvert_exporter": "python",
   "pygments_lexer": "ipython3",
   "version": "3.7.12"
  },
  "orig_nbformat": 4
 },
 "nbformat": 4,
 "nbformat_minor": 2
}
